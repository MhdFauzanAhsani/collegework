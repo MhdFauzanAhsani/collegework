{
 "cells": [
  {
   "cell_type": "code",
   "execution_count": 4,
   "metadata": {},
   "outputs": [],
   "source": [
    "nama = \"Muhammad Fauzan Ahsani\"\n",
    "nim = \"2310817310009\""
   ]
  },
  {
   "cell_type": "code",
   "execution_count": 10,
   "metadata": {},
   "outputs": [
    {
     "name": "stdout",
     "output_type": "stream",
     "text": [
      "22 dan 13\n"
     ]
    }
   ],
   "source": [
    "print(str(len(nama)) + \" dan \" + str(len(nim)))"
   ]
  },
  {
   "cell_type": "code",
   "execution_count": 11,
   "metadata": {},
   "outputs": [
    {
     "name": "stdout",
     "output_type": "stream",
     "text": [
      "##############################\n"
     ]
    }
   ],
   "source": [
    "print(\"#\" * (len(nama) + 8))"
   ]
  },
  {
   "cell_type": "code",
   "execution_count": 12,
   "metadata": {},
   "outputs": [
    {
     "name": "stdout",
     "output_type": "stream",
     "text": [
      "#                            #\n"
     ]
    }
   ],
   "source": [
    "print(\"#\" + \" \" * (len(nama) + 6) + \"#\")"
   ]
  },
  {
   "cell_type": "code",
   "execution_count": 13,
   "metadata": {},
   "outputs": [
    {
     "name": "stdout",
     "output_type": "stream",
     "text": [
      "#   Muhammad Fauzan Ahsani   #\n"
     ]
    }
   ],
   "source": [
    "print(\"#   \" +  nama + \"   #\")"
   ]
  },
  {
   "cell_type": "code",
   "execution_count": 19,
   "metadata": {},
   "outputs": [
    {
     "name": "stdout",
     "output_type": "stream",
     "text": [
      "#       2310817310009        #\n"
     ]
    }
   ],
   "source": [
    "print(\"#       \" +  nim + \"        #\")"
   ]
  },
  {
   "cell_type": "code",
   "execution_count": 21,
   "metadata": {},
   "outputs": [
    {
     "name": "stdout",
     "output_type": "stream",
     "text": [
      "#                            #\n"
     ]
    }
   ],
   "source": [
    "print(\"#\" + \" \" * (len(nama) + 6) + \"#\")"
   ]
  },
  {
   "cell_type": "code",
   "execution_count": 20,
   "metadata": {},
   "outputs": [
    {
     "name": "stdout",
     "output_type": "stream",
     "text": [
      "##############################\n"
     ]
    }
   ],
   "source": [
    "print(\"#\" * (len(nama) + 8))"
   ]
  },
  {
   "cell_type": "code",
   "execution_count": 22,
   "metadata": {},
   "outputs": [
    {
     "name": "stdout",
     "output_type": "stream",
     "text": [
      "#   #  #####  #      #       ###   \n",
      "#   #  #      #      #      #   #  \n",
      "#####  #####  #      #      #   #  \n",
      "#   #  #      #      #      #   #  \n",
      "#   #  #####  #####  #####   ###   \n"
     ]
    }
   ],
   "source": [
    "# Define the characters for each letter\n",
    "letters = {\n",
    "    'A': ['  #  ', ' # # ', '#   #', '#####', '#   #'],\n",
    "    'B': ['#### ', '#   #', '#### ', '#   #', '#### '],\n",
    "    'C': [' ####', '#    ', '#    ', '#    ', ' ####'],\n",
    "    'D': ['###  ', '#  # ', '#   #', '#  # ', '###  '],\n",
    "    'E': ['#####', '#    ', '#####', '#    ', '#####'],\n",
    "    'F': ['#####', '#    ', '#####', '#    ', '#    '],\n",
    "    'G': [' ####', '#    ', '#  ##', '#   #', ' ####'],\n",
    "    'H': ['#   #', '#   #', '#####', '#   #', '#   #'],\n",
    "    'I': ['#####', '  #  ', '  #  ', '  #  ', '#####'],\n",
    "    'J': ['    #', '    #', '    #', '#   #', ' ### '],\n",
    "    'K': ['#   #', '#  # ', '###  ', '#  # ', '#   #'],\n",
    "    'L': ['#    ', '#    ', '#    ', '#    ', '#####'],\n",
    "    'M': ['#   #', '## ##', '# # #', '#   #', '#   #'],\n",
    "    'N': ['#   #', '##  #', '# # #', '#  ##', '#   #'],\n",
    "    'O': [' ### ', '#   #', '#   #', '#   #', ' ### '],\n",
    "    'P': ['#### ', '#   #', '#### ', '#    ', '#    '],\n",
    "    'Q': [' ### ', '#   #', '#   #', '#  # ', ' ## #'],\n",
    "    'R': ['#### ', '#   #', '#### ', '#  # ', '#   #'],\n",
    "    'S': [' ####', '#    ', ' ### ', '    #', '#### '],\n",
    "    'T': ['#####', '  #  ', '  #  ', '  #  ', '  #  '],\n",
    "    'U': ['#   #', '#   #', '#   #', '#   #', ' ### '],\n",
    "    'V': ['#   #', '#   #', '#   #', ' # # ', '  #  '],\n",
    "    'W': ['#   #', '#   #', '# # #', '## ##', '#   #'],\n",
    "    'X': ['#   #', ' # # ', '  #  ', ' # # ', '#   #'],\n",
    "    'Y': ['#   #', ' # # ', '  #  ', '  #  ', '  #  '],\n",
    "    'Z': ['#####', '   # ', '  #  ', ' #   ', '#####'],\n",
    "    ' ': ['     ', '     ', '     ', '     ', '     ']\n",
    "}\n",
    "\n",
    "# Function to print a word in fancy text\n",
    "def print_fancy_text(word):\n",
    "    for row in range(5):\n",
    "        fancy_word = ''\n",
    "        for char in word:\n",
    "            fancy_word += letters[char][row] + '  '\n",
    "        print(fancy_word)\n",
    "\n",
    "# Example usage\n",
    "print_fancy_text(\"HELLO\")\n"
   ]
  }
 ],
 "metadata": {
  "kernelspec": {
   "display_name": "Python 3",
   "language": "python",
   "name": "python3"
  },
  "language_info": {
   "codemirror_mode": {
    "name": "ipython",
    "version": 3
   },
   "file_extension": ".py",
   "mimetype": "text/x-python",
   "name": "python",
   "nbconvert_exporter": "python",
   "pygments_lexer": "ipython3",
   "version": "0.0.0"
  },
  "orig_nbformat": 4
 },
 "nbformat": 4,
 "nbformat_minor": 2
}
